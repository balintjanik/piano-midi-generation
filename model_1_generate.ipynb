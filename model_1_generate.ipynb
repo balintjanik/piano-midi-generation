{
 "cells": [
  {
   "cell_type": "code",
   "execution_count": 19,
   "metadata": {},
   "outputs": [],
   "source": [
    "import torch\n",
    "from torch import nn\n",
    "from src.utils.preprocess_utils import notes_to_midi, midi_to_note_indices, one_hot_encode\n",
    "import numpy as np\n",
    "import torch.nn.functional as F\n",
    "from mido import MidiFile, MidiTrack, Message\n",
    "from datetime import datetime"
   ]
  },
  {
   "cell_type": "code",
   "execution_count": 20,
   "metadata": {},
   "outputs": [],
   "source": [
    "# Define model architecture\n",
    "class LSTMModel(nn.Module):\n",
    "    def __init__(self, input_size, hidden_size, output_size, num_layers=3):\n",
    "        super(LSTMModel, self).__init__()\n",
    "        self.lstm = nn.LSTM(input_size, hidden_size, num_layers=num_layers, batch_first=True, dropout=0.2)\n",
    "        self.fc = nn.Linear(hidden_size, output_size)\n",
    "\n",
    "    def forward(self, x):\n",
    "        # x: [batch_size, sequence_length, input_size]\n",
    "        out, _ = self.lstm(x)  # out: [batch_size, sequence_length, hidden_size]\n",
    "        out = self.fc(out)\n",
    "        return out"
   ]
  },
  {
   "cell_type": "code",
   "execution_count": 21,
   "metadata": {},
   "outputs": [
    {
     "name": "stderr",
     "output_type": "stream",
     "text": [
      "C:\\Users\\janikbalint\\AppData\\Local\\Temp\\ipykernel_30496\\1303454779.py:3: FutureWarning: You are using `torch.load` with `weights_only=False` (the current default value), which uses the default pickle module implicitly. It is possible to construct malicious pickle data which will execute arbitrary code during unpickling (See https://github.com/pytorch/pytorch/blob/main/SECURITY.md#untrusted-models for more details). In a future release, the default value for `weights_only` will be flipped to `True`. This limits the functions that could be executed during unpickling. Arbitrary objects will no longer be allowed to be loaded via this mode unless they are explicitly allowlisted by the user via `torch.serialization.add_safe_globals`. We recommend you start setting `weights_only=True` for any use case where you don't have full control of the loaded file. Please open an issue on GitHub for any issues related to this experimental feature.\n",
      "  model = torch.load(f'weights/model_1/{model_name}')\n"
     ]
    },
    {
     "data": {
      "text/plain": [
       "LSTMModel(\n",
       "  (lstm): LSTM(85, 128, num_layers=2, batch_first=True, dropout=0.2)\n",
       "  (fc): Linear(in_features=128, out_features=85, bias=True)\n",
       ")"
      ]
     },
     "execution_count": 21,
     "metadata": {},
     "output_type": "execute_result"
    }
   ],
   "source": [
    "# Load model\n",
    "model_name = \"2025-01-04_22-12-29_h128_l2_sl60\"\n",
    "model = torch.load(f'weights/model_1/{model_name}')\n",
    "model.eval()"
   ]
  },
  {
   "cell_type": "code",
   "execution_count": 22,
   "metadata": {},
   "outputs": [
    {
     "name": "stdout",
     "output_type": "stream",
     "text": [
      "[24, 26, 31, 36]\n"
     ]
    }
   ],
   "source": [
    "# Load input\n",
    "input = midi_to_note_indices('data/input.mid', 24, 108)\n",
    "sequence_length = 200  # Desired length of the generated sequence\n",
    "temperature = 0.3\n",
    "print(input)"
   ]
  },
  {
   "cell_type": "code",
   "execution_count": 23,
   "metadata": {},
   "outputs": [
    {
     "name": "stdout",
     "output_type": "stream",
     "text": [
      "Generated Sequence:\n",
      "[24, 26, 31, 36, 40, 70, 11, 72, 73, 81, 74, 75, 78, 77, 76, 64, 76, 68, 7, 71, 74, 59, 80, 71, 80, 72, 74, 78, 76, 79, 80, 79, 72, 77, 74, 76, 78, 75, 80, 77, 74, 79, 76, 73, 78, 77, 80, 74, 76, 70, 72, 68, 66, 61, 73, 80, 74, 62, 61, 49, 53, 38, 50, 62, 61, 49, 55, 3, 50, 53, 49, 52, 54, 53, 50, 48, 47, 28, 7, 50, 38, 49, 40, 49, 50, 38, 53, 41, 55, 53, 52, 54, 15, 3, 55, 50, 54, 56, 52, 54, 50, 48, 47, 49, 44, 40, 38, 31, 35, 19, 7, 19, 7, 34, 38, 23, 11, 35, 38, 30, 18, 30, 3, 15, 3, 15, 3, 31, 3, 15, 3, 42, 30, 7, 8, 20, 8, 41, 20, 8, 35, 32, 1, 13, 1, 13, 41, 4, 16, 4, 16, 4, 37, 8, 41, 25, 13, 48, 41, 29, 33, 48, 54, 13, 57, 49, 53, 52, 64, 61, 49, 61, 73, 61, 49, 62, 61, 73, 61, 73, 77, 78, 68, 71, 73, 72, 75, 64, 77, 76, 75, 76, 78, 19, 7, 71, 74, 68, 56, 78, 68, 79, 77, 75]\n"
     ]
    }
   ],
   "source": [
    "def generate_sequence(model, start_sequence, sequence_length, num_notes, temperature=1.0):\n",
    "    model.eval()\n",
    "\n",
    "    start_sequence_one_hot = one_hot_encode(start_sequence, num_notes=num_notes)\n",
    "    start_tensor = torch.tensor(start_sequence_one_hot, dtype=torch.float32).unsqueeze(0)  # [1, sequence_length, input_size]\n",
    "\n",
    "    generated_sequence = list(start_sequence)\n",
    "\n",
    "    for i in range(sequence_length):\n",
    "        with torch.no_grad():\n",
    "            output = model(start_tensor)  # [1, i, output_size]\n",
    "            logits = output.squeeze(0)  # Remove the batch dimension: [i, output_size]\n",
    "\n",
    "            # Temperature scaling\n",
    "            scaled_logits = logits\n",
    "            if temperature != 0:\n",
    "                scaled_logits = logits / temperature\n",
    "\n",
    "            # Apply softmax to get probabilities for the next note\n",
    "            output_probs = F.softmax(scaled_logits, dim=-1)\n",
    "\n",
    "            # Sample the next note based on the probabilities\n",
    "            next_note = torch.multinomial(output_probs[-1], 1).item()\n",
    "\n",
    "            # Append the predicted note to the sequence and this sequence's one-hot\n",
    "            # encoded format will be the input for the next note's generation\n",
    "            generated_sequence.append(next_note)\n",
    "            generated_sequence_tensor = np.array(generated_sequence)\n",
    "            start_tensor = torch.tensor(one_hot_encode(generated_sequence_tensor, num_notes=num_notes), dtype=torch.float32).unsqueeze(0)  # Add batch dimension\n",
    "    \n",
    "    return generated_sequence\n",
    "\n",
    "generated_sequence = generate_sequence(model.cpu(), input, sequence_length, num_notes=85, temperature=temperature)\n",
    "\n",
    "print(\"Generated Sequence:\")\n",
    "print(generated_sequence)"
   ]
  },
  {
   "cell_type": "code",
   "execution_count": 24,
   "metadata": {},
   "outputs": [
    {
     "name": "stdout",
     "output_type": "stream",
     "text": [
      "MIDI file saved to generations/model_1/2025-01-04_22-23-17_t0.3_w200_M_2025-01-04_22-12-29_h128_l2_sl60.mid\n"
     ]
    }
   ],
   "source": [
    "current_datetime = datetime.now().strftime(\"%Y-%m-%d_%H-%M-%S\")\n",
    "file_path = f\"generations/model_1/{current_datetime}_t{temperature:.1f}_w{sequence_length}_M_{model_name}.mid\"\n",
    "\n",
    "notes_to_midi(generated_sequence, file_path)"
   ]
  }
 ],
 "metadata": {
  "kernelspec": {
   "display_name": ".venv",
   "language": "python",
   "name": "python3"
  },
  "language_info": {
   "codemirror_mode": {
    "name": "ipython",
    "version": 3
   },
   "file_extension": ".py",
   "mimetype": "text/x-python",
   "name": "python",
   "nbconvert_exporter": "python",
   "pygments_lexer": "ipython3",
   "version": "3.10.11"
  }
 },
 "nbformat": 4,
 "nbformat_minor": 2
}
