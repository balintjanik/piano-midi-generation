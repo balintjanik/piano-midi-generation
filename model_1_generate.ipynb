{
 "cells": [
  {
   "cell_type": "code",
   "execution_count": 1,
   "metadata": {},
   "outputs": [],
   "source": [
    "import torch\n",
    "from torch import nn\n",
    "from src.utils.preprocess_utils import notes_to_midi, midi_to_note_indices, one_hot_encode\n",
    "import numpy as np\n",
    "import torch.nn.functional as F\n",
    "from mido import MidiFile, MidiTrack, Message\n",
    "from datetime import datetime"
   ]
  },
  {
   "cell_type": "code",
   "execution_count": 2,
   "metadata": {},
   "outputs": [],
   "source": [
    "# Define model architecture\n",
    "class LSTMModel(nn.Module):\n",
    "    def __init__(self, input_size, hidden_size, output_size, num_layers=3):\n",
    "        super(LSTMModel, self).__init__()\n",
    "        self.lstm = nn.LSTM(input_size, hidden_size, num_layers=num_layers, batch_first=True, dropout=0.2)\n",
    "        self.fc = nn.Linear(hidden_size, output_size)\n",
    "\n",
    "    def forward(self, x):\n",
    "        # x: [batch_size, sequence_length, input_size]\n",
    "        out, _ = self.lstm(x)  # out: [batch_size, sequence_length, hidden_size]\n",
    "        out = self.fc(out)\n",
    "        return out"
   ]
  },
  {
   "cell_type": "code",
   "execution_count": 3,
   "metadata": {},
   "outputs": [
    {
     "name": "stderr",
     "output_type": "stream",
     "text": [
      "C:\\Users\\janikbalint\\AppData\\Local\\Temp\\ipykernel_14736\\40510903.py:3: FutureWarning: You are using `torch.load` with `weights_only=False` (the current default value), which uses the default pickle module implicitly. It is possible to construct malicious pickle data which will execute arbitrary code during unpickling (See https://github.com/pytorch/pytorch/blob/main/SECURITY.md#untrusted-models for more details). In a future release, the default value for `weights_only` will be flipped to `True`. This limits the functions that could be executed during unpickling. Arbitrary objects will no longer be allowed to be loaded via this mode unless they are explicitly allowlisted by the user via `torch.serialization.add_safe_globals`. We recommend you start setting `weights_only=True` for any use case where you don't have full control of the loaded file. Please open an issue on GitHub for any issues related to this experimental feature.\n",
      "  model = torch.load(f'weights/model_1/{model_name}')\n"
     ]
    },
    {
     "data": {
      "text/plain": [
       "LSTMModel(\n",
       "  (lstm): LSTM(85, 128, num_layers=5, batch_first=True, dropout=0.2)\n",
       "  (fc): Linear(in_features=128, out_features=85, bias=True)\n",
       ")"
      ]
     },
     "execution_count": 3,
     "metadata": {},
     "output_type": "execute_result"
    }
   ],
   "source": [
    "# Load model\n",
    "model_name = \"2025-01-05_19-47-45_h128_l5_sl60\"\n",
    "model = torch.load(f'weights/model_1/{model_name}')\n",
    "model.eval()"
   ]
  },
  {
   "cell_type": "code",
   "execution_count": 4,
   "metadata": {},
   "outputs": [
    {
     "name": "stdout",
     "output_type": "stream",
     "text": [
      "[24, 26, 31, 36]\n"
     ]
    }
   ],
   "source": [
    "# Load input\n",
    "input = midi_to_note_indices('data/input.mid', 24, 108)\n",
    "sequence_length = 200  # Desired length of the generated sequence\n",
    "temperature = 0.3\n",
    "print(input)"
   ]
  },
  {
   "cell_type": "code",
   "execution_count": 5,
   "metadata": {},
   "outputs": [
    {
     "name": "stdout",
     "output_type": "stream",
     "text": [
      "Generated Sequence:\n",
      "[24, 26, 31, 36, 23, 14, 3, 28, 16, 7, 21, 9, 53, 55, 53, 51, 6, 52, 4, 3, 55, 48, 51, 6, 54, 51, 6, 6, 52, 22, 4, 48, 3, 28, 31, 52, 34, 16, 4, 58, 55, 4, 67, 67, 52, 65, 67, 66, 64, 65, 64, 55, 73, 69, 73, 61, 63, 72, 73, 59, 68, 59, 55, 80, 63, 63, 55, 53, 65, 63, 55, 57, 54, 5, 17, 5, 5, 33, 48, 18, 6, 50, 51, 48, 44, 48, 51, 6, 48, 6, 50, 51, 51, 6, 48, 1, 4, 16, 4, 7, 35, 50, 6, 34, 3, 30, 8, 6, 35, 3, 21, 6, 45, 6, 8, 42, 17, 35, 7, 24, 6, 21, 6, 8, 8, 21, 42, 33, 8, 36, 38, 17, 5, 8, 8, 11, 21, 8, 6, 45, 6, 6, 16, 4, 7, 50, 13, 35, 40, 4, 16, 4, 7, 19, 4, 7, 34, 3, 3, 24, 6, 6, 33, 8, 83, 6, 24, 6, 6, 22, 4, 7, 48, 50, 6, 33, 20, 8, 21, 9, 8, 32, 8, 5, 35, 36, 35, 6, 3, 4, 38, 24, 6, 21, 6, 45, 6, 8, 5, 21, 8, 5, 48, 8]\n"
     ]
    }
   ],
   "source": [
    "def generate_sequence(model, start_sequence, sequence_length, num_notes, temperature=1.0):\n",
    "    model.eval()\n",
    "\n",
    "    start_sequence_one_hot = one_hot_encode(start_sequence, num_notes=num_notes)\n",
    "    start_tensor = torch.tensor(start_sequence_one_hot, dtype=torch.float32).unsqueeze(0)  # [1, sequence_length, input_size]\n",
    "\n",
    "    generated_sequence = list(start_sequence)\n",
    "\n",
    "    for i in range(sequence_length):\n",
    "        with torch.no_grad():\n",
    "            output = model(start_tensor)  # [1, i, output_size]\n",
    "            logits = output.squeeze(0)  # Remove the batch dimension: [i, output_size]\n",
    "\n",
    "            # Temperature scaling\n",
    "            scaled_logits = logits\n",
    "            if temperature != 0:\n",
    "                scaled_logits = logits / temperature\n",
    "\n",
    "            # Apply softmax to get probabilities for the next note\n",
    "            output_probs = F.softmax(scaled_logits, dim=-1)\n",
    "\n",
    "            # Sample the next note based on the probabilities\n",
    "            next_note = torch.multinomial(output_probs[-1], 1).item()\n",
    "\n",
    "            # Append the predicted note to the sequence and this sequence's one-hot\n",
    "            # encoded format will be the input for the next note's generation\n",
    "            generated_sequence.append(next_note)\n",
    "            generated_sequence_tensor = np.array(generated_sequence)\n",
    "            start_tensor = torch.tensor(one_hot_encode(generated_sequence_tensor, num_notes=num_notes), dtype=torch.float32).unsqueeze(0)  # Add batch dimension\n",
    "    \n",
    "    return generated_sequence\n",
    "\n",
    "generated_sequence = generate_sequence(model.cpu(), input, sequence_length, num_notes=85, temperature=temperature)\n",
    "\n",
    "print(\"Generated Sequence:\")\n",
    "print(generated_sequence)"
   ]
  },
  {
   "cell_type": "code",
   "execution_count": 6,
   "metadata": {},
   "outputs": [
    {
     "name": "stdout",
     "output_type": "stream",
     "text": [
      "MIDI file saved to generations/model_1/2025-01-04_23-42-30_t0.3_w200_M_2025-01-04_23-35-14_h128_l5_sl60.mid\n"
     ]
    }
   ],
   "source": [
    "current_datetime = datetime.now().strftime(\"%Y-%m-%d_%H-%M-%S\")\n",
    "file_path = f\"generations/model_1/{current_datetime}_t{temperature:.1f}_w{sequence_length}_M_{model_name}.mid\"\n",
    "\n",
    "notes_to_midi(generated_sequence, file_path)"
   ]
  }
 ],
 "metadata": {
  "kernelspec": {
   "display_name": ".venv",
   "language": "python",
   "name": "python3"
  },
  "language_info": {
   "codemirror_mode": {
    "name": "ipython",
    "version": 3
   },
   "file_extension": ".py",
   "mimetype": "text/x-python",
   "name": "python",
   "nbconvert_exporter": "python",
   "pygments_lexer": "ipython3",
   "version": "3.10.11"
  }
 },
 "nbformat": 4,
 "nbformat_minor": 2
}
