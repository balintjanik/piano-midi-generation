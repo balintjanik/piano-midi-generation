{
 "cells": [
  {
   "cell_type": "code",
   "execution_count": 1,
   "metadata": {},
   "outputs": [],
   "source": [
    "import torch\n",
    "from torch import nn\n",
    "from src.utils.preprocess_utils import notes_to_midi, parse_midi_notes_sequence, map_notes_to_range, midi_int_to_note_index, one_hot_encode\n",
    "import numpy as np\n",
    "import torch.nn.functional as F\n",
    "from mido import MidiFile, MidiTrack, Message\n",
    "from datetime import datetime"
   ]
  },
  {
   "cell_type": "code",
   "execution_count": 2,
   "metadata": {},
   "outputs": [],
   "source": [
    "# Define model architecture\n",
    "class LSTMModel(nn.Module):\n",
    "    def __init__(self, input_size, hidden_size, output_size, num_layers=3):\n",
    "        super(LSTMModel, self).__init__()\n",
    "        self.lstm = nn.LSTM(input_size, hidden_size, num_layers=num_layers, batch_first=True, dropout=0.2)\n",
    "        self.fc = nn.Linear(hidden_size, output_size)\n",
    "\n",
    "    def forward(self, x):\n",
    "        # x: [batch_size, sequence_length, input_size]\n",
    "        out, _ = self.lstm(x)  # out: [batch_size, sequence_length, hidden_size]\n",
    "        out = self.fc(out)\n",
    "        return out"
   ]
  },
  {
   "cell_type": "code",
   "execution_count": 3,
   "metadata": {},
   "outputs": [
    {
     "name": "stderr",
     "output_type": "stream",
     "text": [
      "C:\\Users\\janikbalint\\AppData\\Local\\Temp\\ipykernel_21660\\37167143.py:2: FutureWarning: You are using `torch.load` with `weights_only=False` (the current default value), which uses the default pickle module implicitly. It is possible to construct malicious pickle data which will execute arbitrary code during unpickling (See https://github.com/pytorch/pytorch/blob/main/SECURITY.md#untrusted-models for more details). In a future release, the default value for `weights_only` will be flipped to `True`. This limits the functions that could be executed during unpickling. Arbitrary objects will no longer be allowed to be loaded via this mode unless they are explicitly allowlisted by the user via `torch.serialization.add_safe_globals`. We recommend you start setting `weights_only=True` for any use case where you don't have full control of the loaded file. Please open an issue on GitHub for any issues related to this experimental feature.\n",
      "  model = torch.load('weights/model_1/2025-01-03_19-34-53')\n"
     ]
    },
    {
     "data": {
      "text/plain": [
       "LSTMModel(\n",
       "  (lstm): LSTM(85, 128, num_layers=2, batch_first=True, dropout=0.2)\n",
       "  (fc): Linear(in_features=128, out_features=85, bias=True)\n",
       ")"
      ]
     },
     "execution_count": 3,
     "metadata": {},
     "output_type": "execute_result"
    }
   ],
   "source": [
    "# Load model\n",
    "model = torch.load('weights/model_1/2025-01-03_19-34-53')\n",
    "model.eval()"
   ]
  },
  {
   "cell_type": "code",
   "execution_count": 5,
   "metadata": {},
   "outputs": [
    {
     "name": "stdout",
     "output_type": "stream",
     "text": [
      "[24, 26, 31, 36]\n"
     ]
    }
   ],
   "source": [
    "# Load input\n",
    "notes = parse_midi_notes_sequence('data/input.mid')\n",
    "input = map_notes_to_range(notes)\n",
    "input = [midi_int_to_note_index(note) for note in input]\n",
    "sequence_length = 200  # Desired length of the generated sequence\n",
    "temperature = 0.3\n",
    "print(input)"
   ]
  },
  {
   "cell_type": "code",
   "execution_count": 6,
   "metadata": {},
   "outputs": [
    {
     "name": "stdout",
     "output_type": "stream",
     "text": [
      "Generated Sequence:\n",
      "[24, 26, 31, 36, 47, 55, 46, 37, 52, 54, 31, 34, 33, 41, 51, 52, 49, 45, 43, 49, 48, 29, 46, 46, 38, 52, 54, 33, 44, 33, 50, 32, 38, 50, 45, 55, 42, 40, 41, 41, 44, 33, 41, 34, 47, 52, 33, 26, 38, 40, 35, 36, 48, 51, 52, 43, 40, 39, 31, 48, 46, 46, 38, 34, 36, 50, 50, 40, 48, 34, 50, 50, 31, 39, 47, 43, 36, 31, 51, 39, 45, 38, 40, 45, 44, 47, 33, 38, 45, 31, 50, 46, 39, 31, 40, 40, 39, 48, 43, 39, 38, 34, 45, 40, 45, 40, 38, 50, 29, 43, 29, 35, 38, 52, 40, 36, 40, 52, 43, 50, 44, 39, 52, 45, 40, 33, 49, 35, 45, 36, 43, 57, 36, 46, 43, 31, 48, 44, 45, 38, 38, 32, 42, 36, 55, 43, 31, 35, 42, 48, 45, 47, 35, 38, 33, 45, 33, 45, 35, 43, 42, 29, 32, 46, 35, 41, 37, 47, 51, 46, 40, 39, 33, 45, 31, 33, 31, 31, 28, 39, 38, 40, 39, 47, 44, 40, 47, 31, 33, 49, 31, 33, 34, 46, 51, 48, 48, 40, 38, 38, 39, 28, 40, 52]\n"
     ]
    }
   ],
   "source": [
    "def generate_sequence(model, start_sequence, sequence_length, num_notes, temperature=1.0):\n",
    "    model.eval()\n",
    "\n",
    "    start_sequence_one_hot = one_hot_encode(start_sequence, num_notes=num_notes)\n",
    "    start_tensor = torch.tensor(start_sequence_one_hot, dtype=torch.float32).unsqueeze(0)  # [1, sequence_length, input_size]\n",
    "\n",
    "    generated_sequence = list(start_sequence)\n",
    "\n",
    "    for i in range(sequence_length):\n",
    "        with torch.no_grad():\n",
    "            output = model(start_tensor)  # [1, i, output_size]\n",
    "            logits = output.squeeze(0)  # Remove the batch dimension: [i, output_size]\n",
    "\n",
    "            # Temperature scaling\n",
    "            scaled_logits = logits\n",
    "            if temperature != 0:\n",
    "                scaled_logits = logits / temperature\n",
    "\n",
    "            # Apply softmax to get probabilities for the next note\n",
    "            output_probs = F.softmax(scaled_logits, dim=-1)\n",
    "\n",
    "            # Sample the next note based on the probabilities\n",
    "            next_note = torch.multinomial(output_probs[-1], 1).item()\n",
    "\n",
    "            # Append the predicted note to the sequence and this sequence's one-hot\n",
    "            # encoded format will be the input for the next note's generation\n",
    "            generated_sequence.append(next_note)\n",
    "            generated_sequence_tensor = np.array(generated_sequence)\n",
    "            start_tensor = torch.tensor(one_hot_encode(generated_sequence_tensor, num_notes=num_notes), dtype=torch.float32).unsqueeze(0)  # Add batch dimension\n",
    "    \n",
    "    return generated_sequence\n",
    "\n",
    "generated_sequence = generate_sequence(model.cpu(), input, sequence_length, num_notes=85, temperature=temperature)\n",
    "\n",
    "print(\"Generated Sequence:\")\n",
    "print(generated_sequence)"
   ]
  },
  {
   "cell_type": "code",
   "execution_count": 7,
   "metadata": {},
   "outputs": [
    {
     "name": "stdout",
     "output_type": "stream",
     "text": [
      "MIDI file saved to generations/model_1/2025-01-03_19-35-58_t0.3_w200.mid\n"
     ]
    }
   ],
   "source": [
    "current_datetime = datetime.now().strftime(\"%Y-%m-%d_%H-%M-%S\")\n",
    "file_path = f\"generations/model_1/{current_datetime}_t{temperature:.1f}_w{sequence_length}.mid\"\n",
    "\n",
    "notes_to_midi(generated_sequence, file_path)"
   ]
  }
 ],
 "metadata": {
  "kernelspec": {
   "display_name": ".venv",
   "language": "python",
   "name": "python3"
  },
  "language_info": {
   "codemirror_mode": {
    "name": "ipython",
    "version": 3
   },
   "file_extension": ".py",
   "mimetype": "text/x-python",
   "name": "python",
   "nbconvert_exporter": "python",
   "pygments_lexer": "ipython3",
   "version": "3.10.11"
  }
 },
 "nbformat": 4,
 "nbformat_minor": 2
}
