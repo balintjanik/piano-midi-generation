{
 "cells": [
  {
   "cell_type": "code",
   "execution_count": 1,
   "metadata": {},
   "outputs": [],
   "source": [
    "# Imports\n",
    "import torch\n",
    "from torch import nn\n",
    "from src.utils.preprocess_utils import midi_to_note_indices, notes_to_midi\n",
    "import numpy as np\n",
    "import torch.nn.functional as F\n",
    "from mido import MidiFile, MidiTrack, Message\n",
    "from datetime import datetime"
   ]
  },
  {
   "cell_type": "code",
   "execution_count": 2,
   "metadata": {},
   "outputs": [],
   "source": [
    "# Define model architecture\n",
    "class LSTMModel(nn.Module):\n",
    "    def __init__(self, vocab_size, embedding_size, hidden_size, num_layers):\n",
    "        super(LSTMModel, self).__init__()\n",
    "        self.embedding = nn.Embedding(vocab_size, embedding_size)\n",
    "        self.lstm = nn.LSTM(embedding_size, hidden_size, num_layers, batch_first=True, dropout=0.2)\n",
    "        self.fc = nn.Linear(hidden_size, vocab_size)\n",
    "        \n",
    "    def forward(self, x, hidden=None):\n",
    "        # x: [batch_size, sequence_length]\n",
    "        x = x.long()\n",
    "        embedded = self.embedding(x)  # [batch_size, sequence_length, embedding_size]\n",
    "        lstm_out, hidden = self.lstm(embedded, hidden)  # [batch_size, sequence_length, hidden_size]\n",
    "        output = self.fc(lstm_out)  # [batch_size, sequence_length, vocab_size]\n",
    "        \n",
    "        return output"
   ]
  },
  {
   "cell_type": "code",
   "execution_count": 3,
   "metadata": {},
   "outputs": [
    {
     "name": "stderr",
     "output_type": "stream",
     "text": [
      "C:\\Users\\janikbalint\\AppData\\Local\\Temp\\ipykernel_12860\\3629463313.py:3: FutureWarning: You are using `torch.load` with `weights_only=False` (the current default value), which uses the default pickle module implicitly. It is possible to construct malicious pickle data which will execute arbitrary code during unpickling (See https://github.com/pytorch/pytorch/blob/main/SECURITY.md#untrusted-models for more details). In a future release, the default value for `weights_only` will be flipped to `True`. This limits the functions that could be executed during unpickling. Arbitrary objects will no longer be allowed to be loaded via this mode unless they are explicitly allowlisted by the user via `torch.serialization.add_safe_globals`. We recommend you start setting `weights_only=True` for any use case where you don't have full control of the loaded file. Please open an issue on GitHub for any issues related to this experimental feature.\n",
      "  model = torch.load(f'weights/model_2/{model_name}')\n"
     ]
    },
    {
     "data": {
      "text/plain": [
       "LSTMModel(\n",
       "  (embedding): Embedding(85, 64)\n",
       "  (lstm): LSTM(64, 128, num_layers=2, batch_first=True, dropout=0.2)\n",
       "  (fc): Linear(in_features=128, out_features=85, bias=True)\n",
       ")"
      ]
     },
     "execution_count": 3,
     "metadata": {},
     "output_type": "execute_result"
    }
   ],
   "source": [
    "# Load model\n",
    "model_name = \"2025-01-04_22-07-28_e64_h128_l2_sl50\"\n",
    "model = torch.load(f'weights/model_2/{model_name}')\n",
    "model.eval()"
   ]
  },
  {
   "cell_type": "code",
   "execution_count": 4,
   "metadata": {},
   "outputs": [
    {
     "name": "stdout",
     "output_type": "stream",
     "text": [
      "[24, 26, 31, 36]\n"
     ]
    }
   ],
   "source": [
    "# Load input\n",
    "input = midi_to_note_indices(\"data/input.mid\", 24, 108)\n",
    "sequence_length = 200  # Desired length of the generated sequence\n",
    "temperature = 0.3\n",
    "print(input)"
   ]
  },
  {
   "cell_type": "code",
   "execution_count": 5,
   "metadata": {},
   "outputs": [
    {
     "name": "stdout",
     "output_type": "stream",
     "text": [
      "Generated Sequence:\n",
      "[24, 26, 31, 36, 28, 8, 43, 40, 19, 7, 19, 38, 35, 42, 45, 41, 29, 33, 38, 34, 29, 32, 20, 8, 20, 32, 38, 29, 32, 53, 52, 56, 53, 35, 52, 50, 49, 46, 43, 40, 52, 47, 43, 20, 45, 41, 44, 43, 40, 45, 47, 42, 38, 43, 48, 45, 43, 42, 40, 43, 41, 40, 43, 39, 42, 40, 38, 36, 21, 33, 40, 36, 31, 35, 19, 31, 43, 34, 40, 38, 31, 43, 14, 8, 34, 31, 8, 20, 8, 56, 38, 41, 53, 47, 49, 50, 35, 41, 38, 56, 53, 51, 52, 50, 49, 34, 48, 46, 47, 45, 19, 43, 31, 38, 44, 42, 21, 9, 39, 40, 42, 45, 43, 41, 38, 40, 26, 38, 23, 36, 32, 35, 36, 38, 32, 35, 37, 40, 36, 36, 33, 28, 37, 34, 31, 28, 16, 40, 34, 43, 31, 37, 34, 58, 46, 51, 49, 53, 51, 50, 48, 56, 47, 44, 32, 51, 48, 49, 50, 41, 48, 45, 47, 49, 19, 43, 31, 47, 43, 38, 50, 46, 42, 38, 40, 43, 41, 39, 38, 40, 38, 36, 39, 35, 37, 43, 34, 31, 40, 36, 38, 42, 39, 36]\n"
     ]
    }
   ],
   "source": [
    "def generate_sequence(model, start_sequence, sequence_length, num_notes, temperature=1.0):\n",
    "    model.eval()\n",
    "\n",
    "    start_tensor = torch.tensor(start_sequence, dtype=torch.long).unsqueeze(0)  # [1, sequence_length, input_size]\n",
    "\n",
    "    generated_sequence = list(start_sequence)\n",
    "\n",
    "    for i in range(sequence_length):\n",
    "        with torch.no_grad():\n",
    "            output = model(start_tensor)  # [1, i, output_size]\n",
    "            logits = output.squeeze(0)  # Remove the batch dimension: [i, output_size]\n",
    "\n",
    "            # Temperature scaling\n",
    "            scaled_logits = logits\n",
    "            if temperature != 0:\n",
    "                scaled_logits = logits / temperature\n",
    "\n",
    "            # Apply softmax to get probabilities for the next note\n",
    "            output_probs = F.softmax(scaled_logits, dim=-1)\n",
    "\n",
    "            # Sample the next note based on the probabilities\n",
    "            next_note = torch.multinomial(output_probs[-1], 1).item()\n",
    "\n",
    "            # Append the predicted note to the sequence and this sequence's one-hot\n",
    "            # encoded format will be the input for the next note's generation\n",
    "            generated_sequence.append(next_note)\n",
    "            generated_sequence_tensor = np.array(generated_sequence)\n",
    "            start_tensor = torch.tensor(generated_sequence_tensor, dtype=torch.long).unsqueeze(0)  # Add batch dimension\n",
    "    \n",
    "    return generated_sequence\n",
    "\n",
    "generated_sequence = generate_sequence(model.cpu(), input, sequence_length, num_notes=85, temperature=temperature)\n",
    "\n",
    "print(\"Generated Sequence:\")\n",
    "print(generated_sequence)"
   ]
  },
  {
   "cell_type": "code",
   "execution_count": 6,
   "metadata": {},
   "outputs": [
    {
     "name": "stdout",
     "output_type": "stream",
     "text": [
      "MIDI file saved to generations/model_2/2025-01-04_22-19-06_t0.3_w200_M_2025-01-04_22-07-28_e64_h128_l2_sl50.mid\n"
     ]
    }
   ],
   "source": [
    "current_datetime = datetime.now().strftime(\"%Y-%m-%d_%H-%M-%S\")\n",
    "file_path = f\"generations/model_2/{current_datetime}_t{temperature:.1f}_w{sequence_length}_M_{model_name}.mid\"\n",
    "\n",
    "notes_to_midi(generated_sequence, file_path)"
   ]
  }
 ],
 "metadata": {
  "kernelspec": {
   "display_name": ".venv",
   "language": "python",
   "name": "python3"
  },
  "language_info": {
   "codemirror_mode": {
    "name": "ipython",
    "version": 3
   },
   "file_extension": ".py",
   "mimetype": "text/x-python",
   "name": "python",
   "nbconvert_exporter": "python",
   "pygments_lexer": "ipython3",
   "version": "3.10.11"
  }
 },
 "nbformat": 4,
 "nbformat_minor": 2
}
